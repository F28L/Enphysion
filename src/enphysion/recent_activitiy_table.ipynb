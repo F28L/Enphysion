{
 "cells": [
  {
   "cell_type": "code",
   "execution_count": 3,
   "metadata": {},
   "outputs": [],
   "source": [
    "import requests\n",
    "from importlib import reload\n",
    "from secretslocal import COOKIE, VIRTUAGYM_API_KEY, VIRTUAGYM_CLUB_SECRET, CLUB_ID\n",
    "import datetime\n",
    "import numpy as np\n",
    "import pandas as pd\n",
    "from bs4 import BeautifulSoup"
   ]
  },
  {
   "cell_type": "code",
   "execution_count": 4,
   "metadata": {},
   "outputs": [],
   "source": [
    "def extract_div_dates(html):\n",
    "    soup = BeautifulSoup(html, 'html.parser')\n",
    "    date_divs = {}\n",
    "\n",
    "    for div in soup.find_all(name='div', class_='day'):\n",
    "        div_id = div.get('id')\n",
    "        if div_id:\n",
    "            if div_id not in date_divs:\n",
    "                date_divs[div_id] = ''\n",
    "            date_divs[div_id] = str(div)  # Convert the element back to string\n",
    "    return date_divs"
   ]
  },
  {
   "cell_type": "code",
   "execution_count": 5,
   "metadata": {},
   "outputs": [],
   "source": [
    "def get_all_club_members() -> dict:\n",
    "    from secretslocal import CLUB_ID, VIRTUAGYM_API_KEY, VIRTUAGYM_CLUB_SECRET\n",
    "    import requests\n",
    "    from data_structures.user import User \n",
    "    import json \n",
    "\n",
    "    url = f\"https://api.virtuagym.com/api/v1/club/{CLUB_ID}/member?api_key={VIRTUAGYM_API_KEY}&club_secret={VIRTUAGYM_CLUB_SECRET}&sync_from=0\"\n",
    "    ret = requests.get(url)\n",
    "    ret_str = ret.content.decode('utf-8')\n",
    "    data = json.loads(ret_str)\n",
    "    user_data = data.get('result', [])\n",
    "\n",
    "    users = {}\n",
    "\n",
    "    for item in user_data:\n",
    "        user = User(\n",
    "            item[\"member_id\"],\n",
    "            item[\"firstname\"],\n",
    "            item[\"lastname\"],\n",
    "            item[\"active\"],\n",
    "            item[\"is_pro\"],\n",
    "            item[\"gender\"],\n",
    "            item[\"email\"],\n",
    "            item[\"member_since\"],\n",
    "            item[\"timestamp_edit\"],\n",
    "            item[\"country\"],\n",
    "            item[\"club_id\"],\n",
    "            item.get(\"registration_date\") or None,\n",
    "            item.get(\"lang\") or None,\n",
    "            item[\"original_member_id\"],\n",
    "            item.get(\"birthday\") or None # Check if \"birthday\" exists\n",
    "        )\n",
    "        users[item[\"member_id\"]] = user.to_dict()  # Convert User object to dictionary\n",
    "\n",
    "    return users"
   ]
  },
  {
   "cell_type": "code",
   "execution_count": 6,
   "metadata": {},
   "outputs": [],
   "source": [
    "def get_profile_link(userid: int) -> str:\n",
    "    from importlib import reload\n",
    "    import requests\n",
    "    import secretslocal\n",
    "    reload(secretslocal)\n",
    "\n",
    "    url = f'https://enphysionhealthllc.virtuagym.com/member-management/member/{userid}//member'\n",
    "\n",
    "    headers = {\n",
    "        'Accept': 'application/json, text/plain, */*',\n",
    "        'Accept-Language': 'en-US,en;q=0.9,ru;q=0.8',\n",
    "        'Connection': 'keep-alive',\n",
    "        'Cookie': f'{secretslocal.COOKIE}',\n",
    "        'Referer': 'https://enphysionhealthllc.virtuagym.com/web-app/member/43950940?is_redirect=1',\n",
    "        'Sec-Fetch-Dest': 'empty',\n",
    "        'Sec-Fetch-Mode': 'cors',\n",
    "        'Sec-Fetch-Site': 'same-origin',\n",
    "        'User-Agent': 'Mozilla/5.0 (Macintosh; Intel Mac OS X 10_15_7) AppleWebKit/537.36 (KHTML, like Gecko) Chrome/118.0.0.0 Safari/537.36',\n",
    "        'sec-ch-ua': '\"Chromium\";v=\"118\", \"Google Chrome\";v=\"118\", \"Not=A?Brand\";v=\"99\"',\n",
    "        'sec-ch-ua-mobile': '?0',\n",
    "        'sec-ch-ua-platform': '\"macOS\"'\n",
    "    }\n",
    "\n",
    "    response = requests.get(url, headers=headers)\n",
    "    # print(response.content)\n",
    "    # Check if the request was successful (status code 200)\n",
    "    if response.status_code == 200:\n",
    "        parsed_data = response.json()\n",
    "        if parsed_data is None:\n",
    "            # print('WARNING', 'User', userid, 'experienced a null parsed data response.')\n",
    "            return None\n",
    "        else:\n",
    "            try:\n",
    "                profile_link = parsed_data['data']['profile']['profile_link']\n",
    "                return profile_link\n",
    "            except:\n",
    "                # print('WARNING', 'User', userid, 'experienced an error in when extracting profile link from response.')\n",
    "                return None\n",
    "    else:\n",
    "    #    print(f'{response.status_code} {response.text}')\n",
    "       return None"
   ]
  },
  {
   "cell_type": "code",
   "execution_count": 7,
   "metadata": {},
   "outputs": [],
   "source": [
    "def get_recent_activity_data(userid: int, user_profile_link: str, date: datetime.date) -> requests.Response:\n",
    "    from importlib import reload\n",
    "    import requests\n",
    "    import secretslocal\n",
    "    reload(secretslocal)\n",
    "\n",
    "    # Define the request headers\n",
    "    headers = {\n",
    "        'Accept': '*/*',\n",
    "        'Accept-Encoding': 'gzip, deflate, br',\n",
    "        'Accept-Language': 'en-US,en;q=0.9,ru;q=0.8',\n",
    "        'Connection': 'keep-alive',\n",
    "        'Cookie': f'{secretslocal.COOKIE}',\n",
    "        'Host': 'enphysionhealthllc.virtuagym.com',\n",
    "        'Referer': 'https://enphysionhealthllc.virtuagym.com/user/cfcsandeep-1b4bd803/exercise',\n",
    "        'Sec-Fetch-Dest': 'empty',\n",
    "        'Sec-Fetch-Mode': 'cors',\n",
    "        'Sec-Fetch-Site': 'same-origin',\n",
    "        'User-Agent': 'Mozilla/5.0 (Macintosh; Intel Mac OS X 10_15_7) AppleWebKit/537.36 (KHTML, like Gecko) Chrome/115.0.0.0 Safari/537.36',\n",
    "        'X-Requested-With': 'XMLHttpRequest',\n",
    "        'sec-ch-ua': '\"Not/A)Brand\";v=\"99\", \"Google Chrome\";v=\"115\", \"Chromium\";v=\"115\"',\n",
    "        'sec-ch-ua-mobile': '?0',\n",
    "        'sec-ch-ua-platform': '\"macOS\"'\n",
    "    }\n",
    "\n",
    "    # Define the URL\n",
    "    url = f'https://enphysionhealthllc.virtuagym.com{user_profile_link}/exercise/ajax?action=generate_month&date_to_get_month={str(date)}&u={userid}'\n",
    "\n",
    "    # Make the GET request\n",
    "    response = requests.get(url, headers=headers)\n",
    "    return response\n"
   ]
  },
  {
   "cell_type": "code",
   "execution_count": 8,
   "metadata": {},
   "outputs": [],
   "source": [
    "def get_trimmed_dict_with_target_dates(dict_dates_to_imgs: dict, date: datetime.date = datetime.datetime.now().date()) -> dict:\n",
    "    def filter_unwanted_dates(pair):\n",
    "        key, value = pair\n",
    "        key_dt = datetime.datetime.strptime(key, '%Y-%m-%d').date()\n",
    "\n",
    "        if key_dt < date - datetime.timedelta(days=12) or date < key_dt:\n",
    "            return False\n",
    "        else:\n",
    "            return True\n",
    "    return dict(filter(filter_unwanted_dates, dict_dates_to_imgs.items()))"
   ]
  },
  {
   "cell_type": "code",
   "execution_count": 9,
   "metadata": {},
   "outputs": [],
   "source": [
    "def get_activity_per_day_truth_dict(activity: dict) -> dict:\n",
    "    # Dictionary to store icons and their opacity for each day\n",
    "    day_icons_opacity_mapping = {}\n",
    "\n",
    "    # Iterate through each day and extract icons\n",
    "    for day, html_content in activity.items():\n",
    "        # Parse HTML content using BeautifulSoup\n",
    "        soup = BeautifulSoup(html_content, 'html.parser')\n",
    "        \n",
    "        # Find all div elements with class 'icon_in_day'\n",
    "        icons = soup.find_all('img', class_='icon_in_day')\n",
    "\n",
    "        # Check the opacity for each icon and store the result\n",
    "        opacity_results = []\n",
    "        for icon in icons:\n",
    "            try:\n",
    "                # will be 0 if it can find the .5 which means they didnt do the exercise\n",
    "                b = icon['style'].find('opacity:.5;')\n",
    "            except:\n",
    "                # will be 1 if they did the exercise\n",
    "                b = 1\n",
    "            opacity_results.append(b)\n",
    "        \n",
    "        # Store the opacity results for the day\n",
    "        day_icons_opacity_mapping[day] = opacity_results\n",
    "\n",
    "    # Print the result\n",
    "    # for day, opacity_results in day_icons_opacity_mapping.items():\n",
    "    #     print(f\"{day}: {opacity_results}\")\n",
    "\n",
    "    activity_per_day = dict()\n",
    "    for day, opacity_results in day_icons_opacity_mapping.items():\n",
    "        if 1 in opacity_results:\n",
    "            activity_per_day[day] = True\n",
    "        else:\n",
    "            activity_per_day[day] = False\n",
    "        \n",
    "    return activity_per_day"
   ]
  },
  {
   "cell_type": "code",
   "execution_count": 10,
   "metadata": {},
   "outputs": [],
   "source": [
    "def get_account_manager(userid):\n",
    "    from importlib import reload\n",
    "    import requests\n",
    "    import secretslocal\n",
    "    reload(secretslocal)\n",
    "\n",
    "    url = f'https://enphysionhealthllc.virtuagym.com/member-management/member/{userid}//account-manager'\n",
    "\n",
    "    headers = {\n",
    "        'Accept': 'application/json, text/plain, */*',\n",
    "        'Accept-Language': 'en-US,en;q=0.9,ru;q=0.8',\n",
    "        'Connection': 'keep-alive',\n",
    "        'Cookie': f'{secretslocal.COOKIE}',\n",
    "        'Referer': 'https://enphysionhealthllc.virtuagym.com/web-app/member/43950940?is_redirect=1',\n",
    "        'Sec-Fetch-Dest': 'empty',\n",
    "        'Sec-Fetch-Mode': 'cors',\n",
    "        'Sec-Fetch-Site': 'same-origin',\n",
    "        'User-Agent': 'Mozilla/5.0 (Macintosh; Intel Mac OS X 10_15_7) AppleWebKit/537.36 (KHTML, like Gecko) Chrome/118.0.0.0 Safari/537.36',\n",
    "        'sec-ch-ua': '\"Chromium\";v=\"118\", \"Google Chrome\";v=\"118\", \"Not=A?Brand\";v=\"99\"',\n",
    "        'sec-ch-ua-mobile': '?0',\n",
    "        'sec-ch-ua-platform': '\"macOS\"'\n",
    "    }\n",
    "\n",
    "    response = requests.get(url, headers=headers)\n",
    "    # print(response.content)\n",
    "    # Check if the request was successful (status code 200)\n",
    "    if response.status_code == 200:\n",
    "        parsed_data = response.json()\n",
    "        # print(parsed_data)\n",
    "        if parsed_data is None:\n",
    "            # print('WARNING', 'User', userid, 'experienced a null parsed data response.')\n",
    "            return None\n",
    "        else:\n",
    "            try:\n",
    "                acct_mgr = parsed_data['data'][0]['name']\n",
    "                return acct_mgr     \n",
    "            except:\n",
    "                # print('WARNING', 'User', userid, 'experienced an error in when extracting profile link from response.')\n",
    "                return None\n",
    "    else:\n",
    "       print(f'{response.status_code} {response.text}')\n",
    "       return None\n",
    "    "
   ]
  },
  {
   "cell_type": "code",
   "execution_count": 11,
   "metadata": {},
   "outputs": [],
   "source": [
    "def update_dict_with_profile_link_and_acct_mgr(users: dict) -> dict:\n",
    "    # userid --> {name: blah, birthday: balh, asdf: asdf}\n",
    "    for userid, userdict in users.items():\n",
    "        # print(userdict['firstname'], userdict['lastname'], userdict['member_id'])\n",
    "\n",
    "        if userdict['firstname'] == 'Joshua' and userdict['lastname'] == 'Kaplan':\n",
    "            continue\n",
    "        \n",
    "        if not userdict['is_pro']:\n",
    "            continue \n",
    "        \n",
    "        profile_link = get_profile_link(userid)\n",
    "        acct_mgr = get_account_manager(userid) or 'Joshua Kaplan'\n",
    "\n",
    "        userdict['profile_link'] = profile_link\n",
    "        userdict['acct_mgr'] = acct_mgr\n",
    "\n",
    "        userdict = {k: userdict[k] for k in userdict.keys() if userdict[k] is not None}\n",
    "\n",
    "        users[userid] = userdict\n",
    "    \n",
    "    return users"
   ]
  },
  {
   "cell_type": "code",
   "execution_count": 12,
   "metadata": {},
   "outputs": [],
   "source": [
    "def split_users_into_active_and_inactive(users: dict) -> (dict, dict):\n",
    "    users_with_profile_link = dict()\n",
    "    users_without_profile_link = dict()\n",
    "\n",
    "    for userid, userdict in users.items():\n",
    "        if 'profile_link' in userdict:\n",
    "            users_with_profile_link[userid] = userdict\n",
    "        else:\n",
    "            users_without_profile_link[userid] = userdict\n",
    "    \n",
    "    return users_with_profile_link, users_without_profile_link"
   ]
  },
  {
   "cell_type": "code",
   "execution_count": 13,
   "metadata": {},
   "outputs": [],
   "source": [
    "def get_calendar_content_per_user(users: dict, date: datetime.date = datetime.datetime.now().date()) -> dict:\n",
    "    for userid, userdict in users.items():\n",
    "        proflink = userdict['profile_link']\n",
    "        ret = get_recent_activity_data(userid, proflink, date)\n",
    "        div_dates = extract_div_dates(ret.content)\n",
    "        trimmed_dict = get_trimmed_dict_with_target_dates(div_dates, date)\n",
    "        userdict['activity_calendar'] = get_activity_per_day_truth_dict(trimmed_dict)\n",
    "        users[userid] = userdict\n",
    "    \n",
    "    return users"
   ]
  },
  {
   "cell_type": "code",
   "execution_count": 14,
   "metadata": {},
   "outputs": [],
   "source": [
    "def compute_days_since_last_activity(users_with_activity_calendar: dict) -> dict:\n",
    "    for userid, userdict in users_with_activity_calendar.items():\n",
    "        most_recent_true_date = None\n",
    "        activity = userdict['activity_calendar']\n",
    "\n",
    "        for date in sorted(activity.keys(), reverse=True):\n",
    "            if activity[date]:\n",
    "                most_recent_true_date = date\n",
    "                break\n",
    "\n",
    "        if most_recent_true_date is not None:\n",
    "            most_recent_true_date = datetime.datetime.strptime(most_recent_true_date, '%Y-%m-%d')\n",
    "            today = datetime.datetime.now()\n",
    "            days_since_activity = (today - most_recent_true_date).days\n",
    "        else:\n",
    "            days_since_activity = None\n",
    "\n",
    "        userdict['days_since_last_active'] = days_since_activity\n",
    "    return users_with_activity_calendar"
   ]
  },
  {
   "cell_type": "code",
   "execution_count": 15,
   "metadata": {},
   "outputs": [],
   "source": [
    "def create_and_output_dataframe(data: dict) -> None:\n",
    "    users = list(data.keys())\n",
    "    firstnames = [v['firstname'] for _, v in data.items()]\n",
    "    lastnames = [v['lastname'] for _, v in data.items()]\n",
    "    days_since_last_activity = [v['days_since_last_active'] for _, v in data.items()]\n",
    "    acct_mgrs = [v['acct_mgr'] if 'acct_mgr' in data[k] else None for k, v in data.items()]\n",
    "\n",
    "    df = pd.DataFrame({\n",
    "        'member_id': users,\n",
    "        'firstname': firstnames,\n",
    "        'lastname': lastnames,\n",
    "        'days_since_last_active': days_since_last_activity,\n",
    "        'account_manager': acct_mgrs\n",
    "    })\n",
    "\n",
    "    # Group by account_manager and iterate over groups\n",
    "    for account_manager, group_df in df.groupby('account_manager'):\n",
    "        # Save each group to a separate CSV file\n",
    "        timestamp = datetime.datetime.now().strftime('%Y%m%d%H%M%S')\n",
    "        filename = f'./final_outputs/{account_manager}_{timestamp}.csv'\n",
    "        group_df.to_csv(filename, index=False)\n",
    "        print(f'Exported file to {filename}.')\n"
   ]
  },
  {
   "cell_type": "code",
   "execution_count": 16,
   "metadata": {},
   "outputs": [],
   "source": [
    "def run():\n",
    "    start = datetime.datetime.now()\n",
    "    \n",
    "    print('Getting all members.')\n",
    "    users = get_all_club_members()\n",
    "    step1 = datetime.datetime.now()\n",
    "    print(f'Completed step in: {step1-start}')\n",
    "\n",
    "    print('Getting profile links for members.')\n",
    "    users = update_dict_with_profile_link_and_acct_mgr(users)\n",
    "    step2 = datetime.datetime.now()\n",
    "    print(f'Completed step in: {step2-step1}')\n",
    "\n",
    "    print('Removing users without profile links.')\n",
    "    users_with_profile_links, _ = split_users_into_active_and_inactive(users)\n",
    "    step3 = datetime.datetime.now()\n",
    "    print(f'Completed step in: {step3-step2}')\n",
    "\n",
    "    print('Get calendar content per user.')\n",
    "    users_with_activity_calendar = get_calendar_content_per_user(users_with_profile_links, datetime.datetime.now().date())\n",
    "    step4 = datetime.datetime.now()\n",
    "    print(f'Completed step in: {step4-step3}')\n",
    "\n",
    "    print('Compute days since last activity.')\n",
    "    users_with_activity_calendar = compute_days_since_last_activity(users_with_activity_calendar)    \n",
    "    step5 = datetime.datetime.now()\n",
    "    print(f'Completed step in: {step5-step4}')\n",
    "\n",
    "    print('Creating and outputting dataframe.')\n",
    "    create_and_output_dataframe(users_with_activity_calendar)\n",
    "    step6 = datetime.datetime.now()\n",
    "    print(f'Completed step in: {step6-step5}')\n",
    "\n",
    "    end = datetime.datetime.now()\n",
    "    print(f'Finished process in: {end-start}')"
   ]
  },
  {
   "cell_type": "markdown",
   "metadata": {},
   "source": [
    "DO THE ACTUAL DATA PULLING"
   ]
  },
  {
   "cell_type": "code",
   "execution_count": 15,
   "metadata": {},
   "outputs": [],
   "source": [
    "users = get_all_club_members()"
   ]
  },
  {
   "cell_type": "code",
   "execution_count": 16,
   "metadata": {},
   "outputs": [
    {
     "data": {
      "text/plain": [
       "{'member_id': 41468290,\n",
       " 'firstname': 'Nancy',\n",
       " 'lastname': 'Nizel',\n",
       " 'active': True,\n",
       " 'is_pro': True,\n",
       " 'gender': 'u',\n",
       " 'email': 'nnizel@gmail.com',\n",
       " 'member_since': 1683676800000,\n",
       " 'timestamp_edit': 1683726281242,\n",
       " 'country': 'US',\n",
       " 'club_id': 56930,\n",
       " 'registration_date': 1683725238,\n",
       " 'lang': 'en',\n",
       " 'original_member_id': 0}"
      ]
     },
     "execution_count": 16,
     "metadata": {},
     "output_type": "execute_result"
    }
   ],
   "source": [
    "users[41468290]"
   ]
  },
  {
   "cell_type": "code",
   "execution_count": 17,
   "metadata": {},
   "outputs": [
    {
     "data": {
      "text/plain": [
       "'/user/nnizel-b4263e14'"
      ]
     },
     "execution_count": 17,
     "metadata": {},
     "output_type": "execute_result"
    }
   ],
   "source": [
    "get_profile_link(41468290)"
   ]
  },
  {
   "cell_type": "code",
   "execution_count": 18,
   "metadata": {},
   "outputs": [
    {
     "data": {
      "text/plain": [
       "{41468290: {'member_id': 41468290,\n",
       "  'firstname': 'Nancy',\n",
       "  'lastname': 'Nizel',\n",
       "  'active': True,\n",
       "  'is_pro': True,\n",
       "  'gender': 'u',\n",
       "  'email': 'nnizel@gmail.com',\n",
       "  'member_since': 1683676800000,\n",
       "  'timestamp_edit': 1683726281242,\n",
       "  'country': 'US',\n",
       "  'club_id': 56930,\n",
       "  'registration_date': 1683725238,\n",
       "  'lang': 'en',\n",
       "  'original_member_id': 0}}"
      ]
     },
     "execution_count": 18,
     "metadata": {},
     "output_type": "execute_result"
    }
   ],
   "source": [
    "tmp = {41468290: users[41468290]}\n",
    "tmp"
   ]
  },
  {
   "cell_type": "code",
   "execution_count": 19,
   "metadata": {},
   "outputs": [],
   "source": [
    "tmp = update_dict_with_profile_link_and_acct_mgr(tmp)"
   ]
  },
  {
   "cell_type": "code",
   "execution_count": 20,
   "metadata": {},
   "outputs": [],
   "source": [
    "users_with_profile_links, users_without_profile_links = split_users_into_active_and_inactive(tmp)"
   ]
  },
  {
   "cell_type": "code",
   "execution_count": 21,
   "metadata": {},
   "outputs": [
    {
     "name": "stdout",
     "output_type": "stream",
     "text": [
      "1\n",
      "0\n"
     ]
    }
   ],
   "source": [
    "print(len(users_with_profile_links))\n",
    "print(len(users_without_profile_links))"
   ]
  },
  {
   "cell_type": "code",
   "execution_count": 22,
   "metadata": {},
   "outputs": [
    {
     "data": {
      "text/plain": [
       "{'member_id': 41468290,\n",
       " 'firstname': 'Nancy',\n",
       " 'lastname': 'Nizel',\n",
       " 'active': True,\n",
       " 'is_pro': True,\n",
       " 'gender': 'u',\n",
       " 'email': 'nnizel@gmail.com',\n",
       " 'member_since': 1683676800000,\n",
       " 'timestamp_edit': 1683726281242,\n",
       " 'country': 'US',\n",
       " 'club_id': 56930,\n",
       " 'registration_date': 1683725238,\n",
       " 'lang': 'en',\n",
       " 'original_member_id': 0,\n",
       " 'profile_link': '/user/nnizel-b4263e14',\n",
       " 'acct_mgr': 'Joshua Kaplan'}"
      ]
     },
     "execution_count": 22,
     "metadata": {},
     "output_type": "execute_result"
    }
   ],
   "source": [
    "users_with_profile_links[41468290]"
   ]
  },
  {
   "cell_type": "code",
   "execution_count": 23,
   "metadata": {},
   "outputs": [],
   "source": [
    "users_with_activity_calendar = get_calendar_content_per_user(users_with_profile_links)"
   ]
  },
  {
   "cell_type": "code",
   "execution_count": 24,
   "metadata": {},
   "outputs": [
    {
     "data": {
      "text/plain": [
       "{41468290: {'member_id': 41468290,\n",
       "  'firstname': 'Nancy',\n",
       "  'lastname': 'Nizel',\n",
       "  'active': True,\n",
       "  'is_pro': True,\n",
       "  'gender': 'u',\n",
       "  'email': 'nnizel@gmail.com',\n",
       "  'member_since': 1683676800000,\n",
       "  'timestamp_edit': 1683726281242,\n",
       "  'country': 'US',\n",
       "  'club_id': 56930,\n",
       "  'registration_date': 1683725238,\n",
       "  'lang': 'en',\n",
       "  'original_member_id': 0,\n",
       "  'profile_link': '/user/nnizel-b4263e14',\n",
       "  'acct_mgr': 'Joshua Kaplan',\n",
       "  'activity_calendar': {'2024-04-30': False,\n",
       "   '2024-05-01': True,\n",
       "   '2024-05-02': True,\n",
       "   '2024-05-03': True,\n",
       "   '2024-05-04': False,\n",
       "   '2024-05-05': True,\n",
       "   '2024-05-06': True,\n",
       "   '2024-05-07': True,\n",
       "   '2024-05-08': True,\n",
       "   '2024-05-09': False,\n",
       "   '2024-05-10': True,\n",
       "   '2024-05-11': True,\n",
       "   '2024-05-12': False}}}"
      ]
     },
     "execution_count": 24,
     "metadata": {},
     "output_type": "execute_result"
    }
   ],
   "source": [
    "get_calendar_content_per_user({k: v for k, v in users_with_profile_links.items() if k == 41468290})"
   ]
  },
  {
   "cell_type": "code",
   "execution_count": 25,
   "metadata": {},
   "outputs": [
    {
     "data": {
      "text/plain": [
       "{'2024-04-30': False,\n",
       " '2024-05-01': True,\n",
       " '2024-05-02': True,\n",
       " '2024-05-03': True,\n",
       " '2024-05-04': False,\n",
       " '2024-05-05': True,\n",
       " '2024-05-06': True,\n",
       " '2024-05-07': True,\n",
       " '2024-05-08': True,\n",
       " '2024-05-09': False,\n",
       " '2024-05-10': True,\n",
       " '2024-05-11': True,\n",
       " '2024-05-12': False}"
      ]
     },
     "execution_count": 25,
     "metadata": {},
     "output_type": "execute_result"
    }
   ],
   "source": [
    "users_with_activity_calendar[41468290]['activity_calendar']"
   ]
  },
  {
   "cell_type": "code",
   "execution_count": 26,
   "metadata": {},
   "outputs": [],
   "source": [
    "users_with_activity_calendar = compute_days_since_last_activity(users_with_activity_calendar)"
   ]
  },
  {
   "cell_type": "code",
   "execution_count": 27,
   "metadata": {},
   "outputs": [
    {
     "data": {
      "text/plain": [
       "{'member_id': 41468290,\n",
       " 'firstname': 'Nancy',\n",
       " 'lastname': 'Nizel',\n",
       " 'active': True,\n",
       " 'is_pro': True,\n",
       " 'gender': 'u',\n",
       " 'email': 'nnizel@gmail.com',\n",
       " 'member_since': 1683676800000,\n",
       " 'timestamp_edit': 1683726281242,\n",
       " 'country': 'US',\n",
       " 'club_id': 56930,\n",
       " 'registration_date': 1683725238,\n",
       " 'lang': 'en',\n",
       " 'original_member_id': 0,\n",
       " 'profile_link': '/user/nnizel-b4263e14',\n",
       " 'acct_mgr': 'Joshua Kaplan',\n",
       " 'activity_calendar': {'2024-04-30': False,\n",
       "  '2024-05-01': True,\n",
       "  '2024-05-02': True,\n",
       "  '2024-05-03': True,\n",
       "  '2024-05-04': False,\n",
       "  '2024-05-05': True,\n",
       "  '2024-05-06': True,\n",
       "  '2024-05-07': True,\n",
       "  '2024-05-08': True,\n",
       "  '2024-05-09': False,\n",
       "  '2024-05-10': True,\n",
       "  '2024-05-11': True,\n",
       "  '2024-05-12': False},\n",
       " 'days_since_last_active': 1}"
      ]
     },
     "execution_count": 27,
     "metadata": {},
     "output_type": "execute_result"
    }
   ],
   "source": [
    "users_with_activity_calendar[41468290]"
   ]
  },
  {
   "cell_type": "code",
   "execution_count": 28,
   "metadata": {},
   "outputs": [
    {
     "name": "stdout",
     "output_type": "stream",
     "text": [
      "Exported file to ./final_outputs/Joshua Kaplan_20240512153833.csv.\n"
     ]
    }
   ],
   "source": [
    "create_and_output_dataframe(users_with_activity_calendar)"
   ]
  },
  {
   "cell_type": "markdown",
   "metadata": {},
   "source": [
    "ACTUAL RUNS"
   ]
  },
  {
   "cell_type": "code",
   "execution_count": 17,
   "metadata": {},
   "outputs": [
    {
     "name": "stdout",
     "output_type": "stream",
     "text": [
      "Getting all members.\n",
      "Completed step in: 0:00:01.347071\n",
      "Getting profile links for members.\n",
      "401 {\"message\":\"Unauthorized\"}\n",
      "401 {\"message\":\"Unauthorized\"}\n",
      "401 {\"message\":\"Unauthorized\"}\n",
      "401 {\"message\":\"Unauthorized\"}\n",
      "Completed step in: 0:04:50.739768\n",
      "Removing users without profile links.\n",
      "Completed step in: 0:00:00.000397\n",
      "Get calendar content per user.\n",
      "Completed step in: 0:02:43.571926\n",
      "Compute days since last activity.\n",
      "Completed step in: 0:00:00.001673\n",
      "Creating and outputting dataframe.\n",
      "Exported file to ./final_outputs/Egle Staisiunaite_20240602233922.csv.\n",
      "Exported file to ./final_outputs/Joshua Kaplan_20240602233922.csv.\n",
      "Exported file to ./final_outputs/Kate O'Sullivan_20240602233922.csv.\n",
      "Exported file to ./final_outputs/Rachel Barg_20240602233922.csv.\n",
      "Completed step in: 0:00:00.023007\n",
      "Finished process in: 0:07:35.683856\n"
     ]
    }
   ],
   "source": [
    "run()"
   ]
  },
  {
   "cell_type": "markdown",
   "metadata": {},
   "source": []
  }
 ],
 "metadata": {
  "kernelspec": {
   "display_name": "env",
   "language": "python",
   "name": "python3"
  },
  "language_info": {
   "codemirror_mode": {
    "name": "ipython",
    "version": 3
   },
   "file_extension": ".py",
   "mimetype": "text/x-python",
   "name": "python",
   "nbconvert_exporter": "python",
   "pygments_lexer": "ipython3",
   "version": "3.9.1"
  }
 },
 "nbformat": 4,
 "nbformat_minor": 2
}
